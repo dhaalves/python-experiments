{
 "cells": [
  {
   "cell_type": "code",
   "execution_count": 1,
   "metadata": {},
   "outputs": [
    {
     "name": "stderr",
     "output_type": "stream",
     "text": [
      "/usr/local/lib/python3.6/dist-packages/h5py/__init__.py:36: FutureWarning: Conversion of the second argument of issubdtype from `float` to `np.floating` is deprecated. In future, it will be treated as `np.float64 == np.dtype(float).type`.\n",
      "  from ._conv import register_converters as _register_converters\n",
      "Using TensorFlow backend.\n"
     ]
    },
    {
     "name": "stdout",
     "output_type": "stream",
     "text": [
      "<keras.engine.training.Model object at 0x7fe6a25aee80>\n"
     ]
    }
   ],
   "source": [
    "from keras.applications.inception_resnet_v2 import preprocess_input, InceptionResNetV2\n",
    "\n",
    "model = InceptionResNetV2(include_top=False, weights='imagenet')\n",
    "\n",
    "print(model)"
   ]
  },
  {
   "cell_type": "code",
   "execution_count": 99,
   "metadata": {},
   "outputs": [
    {
     "name": "stdout",
     "output_type": "stream",
     "text": [
      "<div class=\"column\">\n",
      "<img src=/mnt/sdb1/dataset/soybean/soybean1/0XE/xfoI36.jpg style=\"width:100%\">\n",
      "<img src=/mnt/sdb1/dataset/soybean/soybean1/0XI/xdeI49.jpg style=\"width:100%\">\n",
      "<img src=/mnt/sdb1/dataset/soybean/soybean1/2PE/2pfI6.jpg style=\"width:100%\">\n",
      "<img src=/mnt/sdb1/dataset/soybean/soybean1/2UE/2ufI43.jpg style=\"width:100%\">\n",
      "</div>\n",
      "<div class=\"column\">\n",
      "<img src=/mnt/sdb1/dataset/soybean/soybean1/2UI/2udI59.jpg style=\"width:100%\">\n",
      "<img src=/mnt/sdb1/dataset/soybean/soybean1/3MI/3mdI4.jpg style=\"width:100%\">\n",
      "<img src=/mnt/sdb1/dataset/soybean/soybean1/3PE/3pfI39.jpg style=\"width:100%\">\n",
      "<img src=/mnt/sdb1/dataset/soybean/soybean1/3PI/3pdI24.jpg style=\"width:100%\">\n",
      "</div>\n",
      "<img src=/mnt/sdb1/dataset/soybean/soybean1/3UE/3ufI32.jpg style=\"width:100%\">\n",
      "<img src=/mnt/sdb1/dataset/soybean/soybean1/3UI/3udI19.jpg style=\"width:100%\">\n",
      "<img src=/mnt/sdb1/dataset/soybean/soybean1/4PI/4pdI72.jpg style=\"width:100%\">\n",
      "<img src=/mnt/sdb1/dataset/soybean/soybean1/4UE/4ufI6.jpg style=\"width:100%\">\n",
      "</div>\n"
     ]
    }
   ],
   "source": [
    "import os\n",
    "from random import shuffle\n",
    "from string import Template\n",
    "\n",
    "dataset_dir = '/mnt/sdb1/dataset/soybean/soybean1'\n",
    "classes = os.listdir(dataset_dir)\n",
    "n_cols = 3\n",
    "n_samples = len(classes)\n",
    "samples_per_col = int(n_samples /n_cols)\n",
    "aux = 0\n",
    "\n",
    "file = open('/mnt/sdb1/dataset/image_grid_bootstrap.template')\n",
    "\n",
    "src = Template(file.read())\n",
    "grid = ''\n",
    "for i, c in enumerate(sorted(classes)):\n",
    "    if i % samples_per_col == 0 and i+samples_per_col < len(classes):\n",
    "        print('<div class=\"column\">')\n",
    "#         grid += '\\t<div class=\"column\">\\n'\n",
    "        aux = i\n",
    "    class_files_dir = os.path.join(dataset_dir, c)\n",
    "    filenames = os.listdir(class_files_dir)\n",
    "    shuffle(filenames)\n",
    "    \n",
    "    print('<img src='+ os.path.join(class_files_dir,filenames[0]) + ' style=\"width:100%\">')\n",
    "#     grid += '\\t\\t<img src='+ os.path.join(class_files_dir,filenames[0]) + ' style=\"width:100%\">\\n'\n",
    "    grid += '\\n<div class=\"card\">\\n<img class=\"card-img\" src=' + os.path.join(class_files_dir,filenames[0]) +' alt=\"Card image\"> <div class=\"card-body\"><p class=\"card-text\"><small class=\"text-muted\">'+c+'</small></p>\\n</div></div>'\n",
    "    if (i+1 >=(aux+ samples_per_col) and i+samples_per_col < len(classes)) or i+1 ==len(classes):\n",
    "        print('</div>')\n",
    "#         grid += '\\t</div>\\n'\n",
    "result = src.substitute({'grid': grid, 'n_cols': n_cols})\n",
    "file = open('/mnt/sdb1/dataset/image_grid.html', 'w')\n",
    "file.write(result)\n",
    "file.close()"
   ]
  }
 ],
 "metadata": {
  "kernelspec": {
   "display_name": "Python 3",
   "language": "python",
   "name": "python3"
  },
  "language_info": {
   "codemirror_mode": {
    "name": "ipython",
    "version": 3
   },
   "file_extension": ".py",
   "mimetype": "text/x-python",
   "name": "python",
   "nbconvert_exporter": "python",
   "pygments_lexer": "ipython3",
   "version": "3.6.3"
  }
 },
 "nbformat": 4,
 "nbformat_minor": 2
}
