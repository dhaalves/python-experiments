{
 "cells": [
  {
   "cell_type": "code",
   "execution_count": 13,
   "metadata": {},
   "outputs": [
    {
     "name": "stdout",
     "output_type": "stream",
     "text": [
      "[[18 19  3 18]\n",
      " [10  0 19  6]\n",
      " [ 3  5  9 15]]\n"
     ]
    },
    {
     "data": {
      "text/plain": [
       "matrix([[18, 19, 19, 18]])"
      ]
     },
     "execution_count": 13,
     "metadata": {},
     "output_type": "execute_result"
    }
   ],
   "source": [
    "import numpy as np\n",
    "import pandas as pd\n",
    "\n",
    "x = np.matrix(np.random.randint(20, size=12).reshape((3,4)))\n",
    "print(x)\n",
    "x.max(0)\n"
   ]
  },
  {
   "cell_type": "code",
   "execution_count": 22,
   "metadata": {},
   "outputs": [],
   "source": [
    "def highlight_max(data, color='yellow'):\n",
    "    '''\n",
    "    highlight the maximum in a Series or DataFrame\n",
    "    '''\n",
    "    attr = 'background-color: {}'.format(color)\n",
    "    #remove % and cast to float\n",
    "    data = data.replace('%','', regex=True).astype(float)\n",
    "    if data.ndim == 1:  # Series from .apply(axis=0) or axis=1\n",
    "        is_max = data == data.max()\n",
    "        return [attr if v else '' for v in is_max]\n",
    "    else:  # from .apply(axis=None)\n",
    "        is_max = data == data.max().max()\n",
    "        return pd.DataFrame(np.where(is_max, attr, ''),\n",
    "                            index=data.index, columns=data.columns)"
   ]
  },
  {
   "cell_type": "code",
   "execution_count": 23,
   "metadata": {},
   "outputs": [
    {
     "data": {
      "text/html": [
       "<style  type=\"text/css\" >\n",
       "    #T_8e99ec22_14b6_11e8_a6da_f8da0c93b5a3row0_col0 {\n",
       "            background-color:  yellow;\n",
       "        }    #T_8e99ec22_14b6_11e8_a6da_f8da0c93b5a3row1_col1 {\n",
       "            background-color:  yellow;\n",
       "        }</style>  \n",
       "<table id=\"T_8e99ec22_14b6_11e8_a6da_f8da0c93b5a3\" > \n",
       "<thead>    <tr> \n",
       "        <th class=\"blank level0\" ></th> \n",
       "        <th class=\"col_heading level0 col0\" >2014/2015</th> \n",
       "        <th class=\"col_heading level0 col1\" >2015/2016</th> \n",
       "    </tr></thead> \n",
       "<tbody>    <tr> \n",
       "        <th id=\"T_8e99ec22_14b6_11e8_a6da_f8da0c93b5a3level0_row0\" class=\"row_heading level0 row0\" >0</th> \n",
       "        <td id=\"T_8e99ec22_14b6_11e8_a6da_f8da0c93b5a3row0_col0\" class=\"data row0 col0\" >10.3%</td> \n",
       "        <td id=\"T_8e99ec22_14b6_11e8_a6da_f8da0c93b5a3row0_col1\" class=\"data row0 col1\" >4.8%</td> \n",
       "    </tr>    <tr> \n",
       "        <th id=\"T_8e99ec22_14b6_11e8_a6da_f8da0c93b5a3level0_row1\" class=\"row_heading level0 row1\" >1</th> \n",
       "        <td id=\"T_8e99ec22_14b6_11e8_a6da_f8da0c93b5a3row1_col0\" class=\"data row1 col0\" >9.7%</td> \n",
       "        <td id=\"T_8e99ec22_14b6_11e8_a6da_f8da0c93b5a3row1_col1\" class=\"data row1 col1\" >100.8%</td> \n",
       "    </tr>    <tr> \n",
       "        <th id=\"T_8e99ec22_14b6_11e8_a6da_f8da0c93b5a3level0_row2\" class=\"row_heading level0 row2\" >2</th> \n",
       "        <td id=\"T_8e99ec22_14b6_11e8_a6da_f8da0c93b5a3row2_col0\" class=\"data row2 col0\" >9.2%</td> \n",
       "        <td id=\"T_8e99ec22_14b6_11e8_a6da_f8da0c93b5a3row2_col1\" class=\"data row2 col1\" >9.7%</td> \n",
       "    </tr></tbody> \n",
       "</table> "
      ],
      "text/plain": [
       "<pandas.io.formats.style.Styler at 0x7f19c799c2e8>"
      ]
     },
     "execution_count": 23,
     "metadata": {},
     "output_type": "execute_result"
    }
   ],
   "source": [
    "dfPercent = pd.DataFrame({'2014/2015':['10.3%','9.7%','9.2%'],\n",
    "                   '2015/2016':['4.8%','100.8%','9.7%']})\n",
    "dfPercent.style.apply(highlight_max)"
   ]
  }
 ],
 "metadata": {
  "kernelspec": {
   "display_name": "Python 3",
   "language": "python",
   "name": "python3"
  },
  "language_info": {
   "codemirror_mode": {
    "name": "ipython",
    "version": 3
   },
   "file_extension": ".py",
   "mimetype": "text/x-python",
   "name": "python",
   "nbconvert_exporter": "python",
   "pygments_lexer": "ipython3",
   "version": "3.6.3"
  }
 },
 "nbformat": 4,
 "nbformat_minor": 2
}
